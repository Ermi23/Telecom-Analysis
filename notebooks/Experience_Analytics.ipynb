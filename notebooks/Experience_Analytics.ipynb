{
 "cells": [
  {
   "cell_type": "markdown",
   "metadata": {},
   "source": []
  },
  {
   "cell_type": "code",
   "execution_count": null,
   "metadata": {},
   "outputs": [],
   "source": [
    "import os\n",
    "print(os.getcwd())  # This prints the current working directory\n",
    "os.chdir(r'c:\\users\\ermias.tadesse\\10x\\Telecom-Analysis')  # Set the working directory to the project root\n",
    "import pandas as pd\n",
    "\n",
    "# Import the DBConnection and DataAnalysis classes\n",
    "from scripts.db_connection import DBConnection\n",
    "from scripts.Experience_Analytics import TelecomExperienceAnalytics"
   ]
  },
  {
   "cell_type": "markdown",
   "metadata": {},
   "source": []
  },
  {
   "cell_type": "code",
   "execution_count": null,
   "metadata": {},
   "outputs": [],
   "source": [
    "# Create a connection instance\n",
    "db = DBConnection(dbname='tele_co', user='postgres', password='Ermi@123')\n",
    "\n",
    "# Connect to the database\n",
    "db.connect()\n",
    "\n",
    "# Define a query to fetch data from the xdr_data table\n",
    "query = \"SELECT * FROM xdr_data;\"\n",
    "\n",
    "# Fetch data\n",
    "data = db.fetch_data(query)\n",
    "\n",
    "# Convert the data to a DataFrame\n",
    "df = pd.DataFrame(data)\n",
    "\n",
    "# Columns to clean\n",
    "columns_to_clean = ['TCP DL Retrans. Vol (Bytes)', 'TCP UL Retrans. Vol (Bytes)', \n",
    "                    'Avg RTT DL (ms)', 'Avg RTT UL (ms)', \n",
    "                    'Avg Bearer TP DL (kbps)', 'Avg Bearer TP UL (kbps)']\n",
    "    \n",
    "# Create a DataAnalysis instance\n",
    "analysis = TelecomExperienceAnalytics(data, columns_to_clean)\n",
    "\n",
    "# Check if data is returned\n",
    "if data is not None and not data.empty:\n",
    "    # Display the DataFrame\n",
    "    print(data.head())\n",
    "else:\n",
    "    print(\"No data available or data is empty.\")"
   ]
  },
  {
   "cell_type": "markdown",
   "metadata": {},
   "source": [
    "# Create a TelecomExperienceAnalytics instance"
   ]
  },
  {
   "cell_type": "code",
   "execution_count": 3,
   "metadata": {},
   "outputs": [],
   "source": [
    "    # Create a TelecomExperienceAnalytics instance\n",
    "analysis = TelecomExperienceAnalytics(df, columns_to_clean)"
   ]
  },
  {
   "cell_type": "markdown",
   "metadata": {},
   "source": [
    "# Task 3.1 Data Aggregation\n",
    " need to calculate average values for certain network parameters (TCP retransmission, RTT, and throughput) for each customer. And handle missing values and outliers by replacing them with the mean or mode of the respective variable."
   ]
  },
  {
   "cell_type": "markdown",
   "metadata": {},
   "source": [
    "# Clean the data and fill the missing value by the data mean"
   ]
  },
  {
   "cell_type": "code",
   "execution_count": 4,
   "metadata": {},
   "outputs": [],
   "source": [
    "    # Clean the data\n",
    "cleaned_df = analysis.clean_data()"
   ]
  },
  {
   "cell_type": "markdown",
   "metadata": {},
   "source": [
    "# Display the head of the cleaned data"
   ]
  },
  {
   "cell_type": "code",
   "execution_count": null,
   "metadata": {},
   "outputs": [],
   "source": [
    "    # Display the head of the cleaned data\n",
    "analysis.display_head()"
   ]
  },
  {
   "cell_type": "markdown",
   "metadata": {},
   "source": [
    "# Aggregate data per customer"
   ]
  },
  {
   "cell_type": "code",
   "execution_count": null,
   "metadata": {},
   "outputs": [],
   "source": [
    "# Aggregate data per customer\n",
    "agg_data = analysis.aggregate_per_customer(cleaned_df)\n",
    "print(agg_data.head())"
   ]
  },
  {
   "cell_type": "markdown",
   "metadata": {},
   "source": []
  },
  {
   "cell_type": "code",
   "execution_count": null,
   "metadata": {},
   "outputs": [],
   "source": [
    "# Define the columns to plot\n",
    "network_parameters = ['Avg TCP DL Retransmission', 'Avg RTT DL', 'Avg Throughput DL']\n",
    "\n",
    "# Plot top 10 average values for each network parameter using MSISDN as the customer ID\n",
    "analysis.plot_top_10_average_values(agg_data, network_parameters, id_column='MSISDN')"
   ]
  },
  {
   "cell_type": "markdown",
   "metadata": {},
   "source": [
    "# Task 3.2 Statistical Analysis \n",
    "Identify and list the top 10, bottom 10, and most frequent values for TCP, RTT, and throughput across the dataset. This helps in understanding the extremes and common values in the dataset."
   ]
  },
  {
   "cell_type": "markdown",
   "metadata": {},
   "source": [
    "# Find top, bottom, and most frequent TCP DL Retransmissions"
   ]
  },
  {
   "cell_type": "code",
   "execution_count": null,
   "metadata": {},
   "outputs": [],
   "source": [
    "tcp_dl_top, tcp_dl_bottom, tcp_dl_freq = analysis.top_bottom_frequent(cleaned_df, 'TCP DL Retrans. Vol (Bytes)')\n",
    "print(\"Top 10 TCP DL Retransmissions:\", tcp_dl_top)\n",
    "print(\"Bottom 10 TCP DL Retransmissions:\", tcp_dl_bottom)\n",
    "print(\"Most Frequent TCP DL Retransmissions:\", tcp_dl_freq)"
   ]
  },
  {
   "cell_type": "markdown",
   "metadata": {},
   "source": [
    "# Find top, bottom, and most frequent TCP DL Retransmissions"
   ]
  },
  {
   "cell_type": "code",
   "execution_count": null,
   "metadata": {},
   "outputs": [],
   "source": [
    "tcp_dl_top, tcp_dl_bottom, tcp_dl_freq = analysis.top_bottom_frequent(cleaned_df, 'Avg RTT DL (ms)')\n",
    "print(\"Top 10 RTT DL Retransmissions:\", tcp_dl_top)\n",
    "print(\"Bottom 10 RTT DL Retransmissions:\", tcp_dl_bottom)\n",
    "print(\"Most Frequent RTT DL Retransmissions:\", tcp_dl_freq)"
   ]
  },
  {
   "cell_type": "markdown",
   "metadata": {},
   "source": [
    "# Find top, bottom, and most frequent TCP DL Retransmissions"
   ]
  },
  {
   "cell_type": "code",
   "execution_count": null,
   "metadata": {},
   "outputs": [],
   "source": [
    "tcp_dl_top, tcp_dl_bottom, tcp_dl_freq = analysis.top_bottom_frequent(cleaned_df, 'Avg Bearer TP DL (kbps)')\n",
    "print(\"Top 10 RTT DL Retransmissions:\", tcp_dl_top)\n",
    "print(\"Bottom 10 RTT DL Retransmissions:\", tcp_dl_bottom)\n",
    "print(\"Most Frequent RTT DL Retransmissions:\", tcp_dl_freq)"
   ]
  },
  {
   "cell_type": "markdown",
   "metadata": {},
   "source": [
    "# Task 3.3 Distribution and Interpretation \n",
    "Analyze the distribution of average throughput per handset type and average TCP retransmission per handset type. Provide interpretations for these distributions, which may reveal insights about how different devices perform in terms of network experience."
   ]
  },
  {
   "cell_type": "markdown",
   "metadata": {},
   "source": [
    "# Analyze distribution of throughput per handset type"
   ]
  },
  {
   "cell_type": "code",
   "execution_count": null,
   "metadata": {},
   "outputs": [],
   "source": [
    "# Analyze distribution of throughput per handset type\n",
    "# throughput_dist = analysis.distribution_per_handset(cleaned_df, 'Avg Bearer TP DL (kbps)')\n",
    "# print(throughput_dist)\n",
    "throughput_dist = analysis.average_throughput_per_handset(cleaned_df, 'Avg Bearer TP DL (kbps)')\n",
    "print(throughput_dist)\n",
    "throughput_dist = analysis.plot_throughput_distribution(cleaned_df, 'Avg Bearer TP DL (kbps)')\n",
    "throughput_dist = analysis.plot_top_bottom_throughput(cleaned_df, 'Avg Bearer TP DL (kbps)')"
   ]
  },
  {
   "cell_type": "markdown",
   "metadata": {},
   "source": [
    "# Analyze distribution of Round Trip Time measurement Downlink direction (msecond) per handset type"
   ]
  },
  {
   "cell_type": "code",
   "execution_count": null,
   "metadata": {},
   "outputs": [],
   "source": [
    "throughput_dist = analysis.average_throughput_per_handset(cleaned_df, 'Avg RTT DL (ms)')\n",
    "print(throughput_dist)\n",
    "throughput_dist = analysis.plot_throughput_distribution(cleaned_df, 'Avg RTT DL (ms)')\n",
    "throughput_dist = analysis.plot_top_bottom_throughput(cleaned_df, 'Avg RTT DL (ms)')"
   ]
  },
  {
   "cell_type": "markdown",
   "metadata": {},
   "source": [
    "# Analyze distribution of TCP DL Retrans. Vol (Bytes) per handset type"
   ]
  },
  {
   "cell_type": "code",
   "execution_count": null,
   "metadata": {},
   "outputs": [],
   "source": [
    "throughput_dist = analysis.average_throughput_per_handset(cleaned_df, 'TCP DL Retrans. Vol (Bytes)')\n",
    "print(throughput_dist)\n",
    "throughput_dist = analysis.plot_throughput_distribution(cleaned_df, 'TCP DL Retrans. Vol (Bytes)')\n",
    "throughput_dist = analysis.plot_top_bottom_throughput(cleaned_df, 'TCP DL Retrans. Vol (Bytes)')"
   ]
  },
  {
   "cell_type": "markdown",
   "metadata": {},
   "source": [
    "# Task 3.4 Clustering Analysis\n",
    "Use k-means clustering to segment users into three groups based on their experiences as measured by the metrics calculated in previous steps. Provide a brief description of each cluster, highlighting differences in user experiences based on the data."
   ]
  },
  {
   "cell_type": "markdown",
   "metadata": {},
   "source": [
    "# Perform K-Means clustering"
   ]
  },
  {
   "cell_type": "code",
   "execution_count": null,
   "metadata": {},
   "outputs": [],
   "source": [
    "# Define the columns to use for clustering\n",
    "experience_columns = ['TCP DL Retrans. Vol (Bytes)', 'TCP UL Retrans. Vol (Bytes)',\n",
    "                      'Avg RTT DL (ms)', 'Avg RTT UL (ms)', \n",
    "                      'Avg Bearer TP DL (kbps)', 'Avg Bearer TP UL (kbps)']\n",
    "\n",
    "# Perform clustering\n",
    "clustered_data, kmeans_model = analysis.perform_kmeans_clustering(df, experience_columns)\n",
    "\n",
    "# Display the first few rows of the clustered data\n",
    "print(clustered_data.head())"
   ]
  },
  {
   "cell_type": "code",
   "execution_count": null,
   "metadata": {},
   "outputs": [],
   "source": [
    "# Analyze cluster centroids\n",
    "print(\"Cluster centers:\\n\", kmeans_model.cluster_centers_)"
   ]
  },
  {
   "cell_type": "markdown",
   "metadata": {},
   "source": []
  },
  {
   "cell_type": "code",
   "execution_count": null,
   "metadata": {},
   "outputs": [],
   "source": [
    "# Define the columns to use for clustering\n",
    "experience_columns = ['TCP DL Retrans. Vol (Bytes)', 'TCP UL Retrans. Vol (Bytes)',\n",
    "                      'Avg RTT DL (ms)', 'Avg RTT UL (ms)', \n",
    "                      'Avg Bearer TP DL (kbps)', 'Avg Bearer TP UL (kbps)']\n",
    "\n",
    "# Perform clustering and visualize with PCA\n",
    "clustered_data, kmeans_model = analysis.perform_kmeans_clustering_with_visualization(df, experience_columns)\n",
    "\n",
    "# # Display the first few rows of the clustered data\n",
    "# print(clustered_data.head())\n",
    "\n",
    "# # Analyze cluster centroids\n",
    "# print(\"Cluster centers:\\n\", kmeans_model.cluster_centers_)"
   ]
  },
  {
   "cell_type": "markdown",
   "metadata": {},
   "source": []
  },
  {
   "cell_type": "code",
   "execution_count": null,
   "metadata": {},
   "outputs": [],
   "source": [
    "# Select relevant metrics for clustering\n",
    "metrics = ['TCP DL Retrans. Vol (Bytes)', 'Avg RTT DL (ms)', 'Avg Bearer TP DL (kbps)']\n",
    "analysis.select_metrics(metrics)"
   ]
  },
  {
   "cell_type": "markdown",
   "metadata": {},
   "source": [
    "# Normalize the data"
   ]
  },
  {
   "cell_type": "code",
   "execution_count": null,
   "metadata": {},
   "outputs": [],
   "source": [
    "# Normalize the data\n",
    "analysis.normalize_data()"
   ]
  },
  {
   "cell_type": "markdown",
   "metadata": {},
   "source": [
    "# Apply K-means clustering"
   ]
  },
  {
   "cell_type": "code",
   "execution_count": null,
   "metadata": {},
   "outputs": [],
   "source": [
    "# Apply K-means clustering\n",
    "analysis.apply_kmeans(n_clusters=3)"
   ]
  },
  {
   "cell_type": "markdown",
   "metadata": {},
   "source": [
    "# Evaluate clusters"
   ]
  },
  {
   "cell_type": "code",
   "execution_count": null,
   "metadata": {},
   "outputs": [],
   "source": [
    "# Evaluate clusters\n",
    "silhouette_score = analysis.evaluate_clusters()\n",
    "print(f'Silhouette Score: {silhouette_score:.2f}')"
   ]
  },
  {
   "cell_type": "markdown",
   "metadata": {},
   "source": [
    "# Visualize the clusters"
   ]
  },
  {
   "cell_type": "code",
   "execution_count": null,
   "metadata": {},
   "outputs": [],
   "source": [
    "# Visualize the clusters\n",
    "analysis.visualize_clusters()"
   ]
  },
  {
   "cell_type": "markdown",
   "metadata": {},
   "source": [
    "# Get cluster descriptions"
   ]
  },
  {
   "cell_type": "code",
   "execution_count": null,
   "metadata": {},
   "outputs": [],
   "source": [
    "# Get cluster descriptions\n",
    "descriptions = analysis.cluster_descriptions(metrics)\n",
    "for cluster, desc in descriptions.items():\n",
    "    print(f'\\nCluster {cluster} Description:')\n",
    "    print(desc)"
   ]
  }
 ],
 "metadata": {
  "kernelspec": {
   "display_name": "venv",
   "language": "python",
   "name": "python3"
  },
  "language_info": {
   "codemirror_mode": {
    "name": "ipython",
    "version": 3
   },
   "file_extension": ".py",
   "mimetype": "text/x-python",
   "name": "python",
   "nbconvert_exporter": "python",
   "pygments_lexer": "ipython3",
   "version": "3.12.0"
  }
 },
 "nbformat": 4,
 "nbformat_minor": 2
}
